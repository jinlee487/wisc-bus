{
 "cells": [
  {
   "cell_type": "code",
   "execution_count": null,
   "metadata": {},
   "outputs": [],
   "source": [
    "#this script will use the graph to creat the dfs graph"
   ]
  },
  {
   "cell_type": "code",
   "execution_count": 2,
   "metadata": {},
   "outputs": [
    {
     "ename": "ModuleNotFoundError",
     "evalue": "No module named 'geopandas'",
     "output_type": "error",
     "traceback": [
      "\u001b[1;31m---------------------------------------------------------------------------\u001b[0m",
      "\u001b[1;31mModuleNotFoundError\u001b[0m                       Traceback (most recent call last)",
      "\u001b[1;32m<ipython-input-2-9fac95e70c05>\u001b[0m in \u001b[0;36m<module>\u001b[1;34m\u001b[0m\n\u001b[0;32m      1\u001b[0m \u001b[1;32mimport\u001b[0m \u001b[0mpickle\u001b[0m\u001b[1;33m\u001b[0m\u001b[1;33m\u001b[0m\u001b[0m\n\u001b[0;32m      2\u001b[0m \u001b[1;32mimport\u001b[0m \u001b[0mjson\u001b[0m\u001b[1;33m\u001b[0m\u001b[1;33m\u001b[0m\u001b[0m\n\u001b[1;32m----> 3\u001b[1;33m \u001b[1;32mimport\u001b[0m \u001b[0mgeopandas\u001b[0m\u001b[1;33m\u001b[0m\u001b[1;33m\u001b[0m\u001b[0m\n\u001b[0m\u001b[0;32m      4\u001b[0m \u001b[1;32mimport\u001b[0m \u001b[0mpandas\u001b[0m \u001b[1;32mas\u001b[0m \u001b[0mpd\u001b[0m\u001b[1;33m\u001b[0m\u001b[1;33m\u001b[0m\u001b[0m\n\u001b[0;32m      5\u001b[0m \u001b[0mpd\u001b[0m\u001b[1;33m.\u001b[0m\u001b[0mset_option\u001b[0m\u001b[1;33m(\u001b[0m\u001b[1;34m'max_colwidth'\u001b[0m\u001b[1;33m,\u001b[0m \u001b[1;36m200\u001b[0m\u001b[1;33m)\u001b[0m\u001b[1;33m\u001b[0m\u001b[1;33m\u001b[0m\u001b[0m\n",
      "\u001b[1;31mModuleNotFoundError\u001b[0m: No module named 'geopandas'"
     ]
    }
   ],
   "source": [
    "import pickle\n",
    "import json\n",
    "import geopandas \n",
    "import pandas as pd\n",
    "pd.set_option('max_colwidth', 200)\n",
    "import matplotlib\n",
    "import matplotlib.pyplot as plt\n",
    "import matplotlib.colors as pltc\n",
    "from shapely.geometry import Point, Polygon, LineString\n",
    "import seaborn as sns \n",
    "sns.set()\n",
    "import os\n",
    "from os import listdir\n",
    "from os.path import isfile, join\n",
    "import descartes\n",
    "import csv\n",
    "import numpy as np\n",
    "%matplotlib inline\n",
    "from random import sample\n",
    "from math import sin, cos, sqrt, atan2, radians, acos\n",
    "import numpy as np\n",
    "import math\n",
    "import copy\n",
    "import time\n",
    "\n",
    "# lakes = geopandas.read_file(\"Lakes_and_Rivers\")\n",
    "# madison = geopandas.read_file(\"City_Limit\")\n"
   ]
  },
  {
   "cell_type": "code",
   "execution_count": 4,
   "metadata": {},
   "outputs": [],
   "source": [
    "def save_obj(obj, name ):\n",
    "    with open('obj/'+ name + '.pkl', 'wb') as f:\n",
    "        pickle.dump(obj, f, pickle.HIGHEST_PROTOCOL)\n",
    "\n",
    "def load_obj(name ):\n",
    "    with open('obj/' + name + '.pkl', 'rb') as f:\n",
    "        return pickle.load(f)"
   ]
  },
  {
   "cell_type": "code",
   "execution_count": 5,
   "metadata": {},
   "outputs": [],
   "source": [
    "g=load_obj('graph_final')\n"
   ]
  },
  {
   "cell_type": "code",
   "execution_count": null,
   "metadata": {},
   "outputs": [],
   "source": []
  },
  {
   "cell_type": "code",
   "execution_count": null,
   "metadata": {},
   "outputs": [],
   "source": []
  },
  {
   "cell_type": "code",
   "execution_count": 8,
   "metadata": {},
   "outputs": [],
   "source": [
    "def get_stop(node):\n",
    "    return int(node.split(\"_\")[0])\n",
    "    \n",
    "def get_seconds(node):\n",
    "    return int(node.split(\"_\")[1])\n",
    "    \n",
    "# depth-first search through bus system\n",
    "#\n",
    "# graph: dict, key=node name, val=edge list\n",
    "# node: node name\n",
    "# max_time: last time (in seconds) beyond which we don't search (None if no limit)\n",
    "# visited: set of nodes visited already (to avoid repeats)\n",
    "def dfs(graph, node, max_time=None, visited=None, parent_node= None):\n",
    "    if visited == None:\n",
    "        visited = set()\n",
    "    node_time = get_seconds(node)\n",
    "    if max_time != None and node_time > max_time:\n",
    "        return visited\n",
    "\n",
    "    if node in visited:\n",
    "        return visited\n",
    "    \n",
    "    if parent_node:\n",
    "        trip_id = parent_node['trip_id'] \n",
    "    else: \n",
    "        trip_id = None\n",
    "        \n",
    "    visited.add(node)\n",
    "    for edge in graph[node]:\n",
    "            if not trip_id:\n",
    "                dfs(graph, edge[\"destination\"], max_time, visited, edge)\n",
    "            else:\n",
    "                if 'DROP OFF' in edge['full_bus_name']:\n",
    "                    if edge['trip_id'] == trip_id:\n",
    "                        dfs(graph, edge[\"destination\"], max_time, visited, edge)\n",
    "                    else: \n",
    "                        continue \n",
    "                else:\n",
    "                    dfs(graph, edge[\"destination\"], max_time, visited, edge)\n",
    "    return visited\n",
    "\n",
    "def stops_reachable_percent(start, hours=None):\n",
    "    limit = None\n",
    "    if hours != None:\n",
    "        limit = get_seconds(start) + hours * 3600 # hours to seconds\n",
    "    reachable = dfs(g, start, limit)\n",
    "    reachable_stops = {get_stop(node) for node in reachable}\n",
    "    all_stops = {get_stop(node) for node in g.keys()}\n",
    "    hour_cover = (len(reachable_stops) / len(all_stops))\n",
    "    return hour_cover, reachable   \n",
    "\n",
    "# # where can we get if we start at this place/time, and have no time limit?\n",
    "# print(stops_reachable_percent('1561_25223'))\n",
    "\n",
    "# # one hour limit?\n",
    "# print(stops_reachable_percent('1379_25260', 1))\n",
    "\n",
    "# # two hour limit?\n",
    "# print(stops_reachable_percent('1561_25223', 2))\n"
   ]
  },
  {
   "cell_type": "code",
   "execution_count": 9,
   "metadata": {},
   "outputs": [
    {
     "name": "stdout",
     "output_type": "stream",
     "text": [
      "0% done\n",
      "10% done\n",
      "20% done\n",
      "30% done\n",
      "40% done\n",
      "50% done\n",
      "60% done\n",
      "70% done\n",
      "80% done\n",
      "90% done\n"
     ]
    }
   ],
   "source": [
    "hour_coverage = {}\n",
    "dfs_output = {}\n",
    "past_percent = -1\n",
    "for i,node in enumerate(g):\n",
    "    hour_coverage[node], dfs_output[node] = stops_reachable_percent(node, 0.5)\n",
    "    if i*100//len(g) != past_percent:\n",
    "        past_percent = i*100//len(g)\n",
    "        if str(0) in str(past_percent):\n",
    "            print(\"%d%% done\" % past_percent)\n",
    "\n"
   ]
  },
  {
   "cell_type": "code",
   "execution_count": 10,
   "metadata": {},
   "outputs": [
    {
     "name": "stdout",
     "output_type": "stream",
     "text": [
      "['741_26297']\n"
     ]
    }
   ],
   "source": [
    "best = max(hour_coverage.values())\n",
    "print([n for n in g if hour_coverage[n] == best])"
   ]
  },
  {
   "cell_type": "code",
   "execution_count": 1,
   "metadata": {},
   "outputs": [
    {
     "ename": "NameError",
     "evalue": "name 'dfs_output' is not defined",
     "output_type": "error",
     "traceback": [
      "\u001b[1;31m---------------------------------------------------------------------------\u001b[0m",
      "\u001b[1;31mNameError\u001b[0m                                 Traceback (most recent call last)",
      "\u001b[1;32m<ipython-input-1-7de5733f6ada>\u001b[0m in \u001b[0;36m<module>\u001b[1;34m\u001b[0m\n\u001b[1;32m----> 1\u001b[1;33m \u001b[0mdfs_output\u001b[0m\u001b[1;33m.\u001b[0m\u001b[0mhead\u001b[0m\u001b[1;33m(\u001b[0m\u001b[1;33m)\u001b[0m\u001b[1;33m\u001b[0m\u001b[1;33m\u001b[0m\u001b[0m\n\u001b[0m",
      "\u001b[1;31mNameError\u001b[0m: name 'dfs_output' is not defined"
     ]
    }
   ],
   "source": []
  },
  {
   "cell_type": "code",
   "execution_count": 19,
   "metadata": {},
   "outputs": [],
   "source": [
    "save_obj(dfs_output, 'dfs_output_final')"
   ]
  },
  {
   "cell_type": "code",
   "execution_count": 20,
   "metadata": {},
   "outputs": [],
   "source": [
    "save_obj(hour_coverage, 'hour_coverage_final')"
   ]
  },
  {
   "cell_type": "code",
   "execution_count": null,
   "metadata": {},
   "outputs": [],
   "source": []
  }
 ],
 "metadata": {
  "kernelspec": {
   "display_name": "Python 3",
   "language": "python",
   "name": "python3"
  },
  "language_info": {
   "codemirror_mode": {
    "name": "ipython",
    "version": 3
   },
   "file_extension": ".py",
   "mimetype": "text/x-python",
   "name": "python",
   "nbconvert_exporter": "python",
   "pygments_lexer": "ipython3",
   "version": "3.8.5"
  }
 },
 "nbformat": 4,
 "nbformat_minor": 2
}
